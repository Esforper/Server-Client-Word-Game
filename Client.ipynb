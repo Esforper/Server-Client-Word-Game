{
 "cells": [
  {
   "cell_type": "code",
   "execution_count": 10,
   "metadata": {},
   "outputs": [
    {
     "name": "stdout",
     "output_type": "stream",
     "text": [
      "Sunucuya bağlandı.\n",
      "Kelimeniz : B * * *\n",
      "Tahmin 1:\n",
      "* * * A\n",
      "Tahmin 2: \n",
      "B * N i\n",
      "Tahmin 3: \n",
      "B I N n\n",
      "Tahmin 4: \n",
      "B I N n\n",
      "Tahmin 5: \n",
      "\n",
      "Dogru kelime BINA idi\n",
      "Bitti\n",
      "Oyun bitti.\n"
     ]
    }
   ],
   "source": [
    "import socket\n",
    "\n",
    "# Sunucunun IP adresi ve port numarası\n",
    "HOST = '127.0.0.1'\n",
    "PORT = 4337\n",
    "# Ana kod akışı\n",
    "with socket.socket(socket.AF_INET, socket.SOCK_STREAM) as client_socket:\n",
    "    client_socket.connect((HOST, PORT))\n",
    "    print(\"Sunucuya bağlandı.\")\n",
    "    \n",
    "    while True:\n",
    "        data = client_socket.recv(1024).decode()\n",
    "        \n",
    "        if not data:\n",
    "            break\n",
    "        print(data)\n",
    "\n",
    "        if \"Tebrikler\" in data or \"Bitti\" in data:\n",
    "            break\n",
    "\n",
    "        guess = input(\"Tahmin: \")\n",
    "        client_socket.sendall(guess.encode())\n",
    "        # bunu yazdıktan sonra sunucudan cevap bekleyeceğiz doğal olarak\n",
    "\n",
    "\n",
    "print(\"Oyun bitti.\")\n"
   ]
  }
 ],
 "metadata": {
  "kernelspec": {
   "display_name": "Python 3",
   "language": "python",
   "name": "python3"
  },
  "language_info": {
   "codemirror_mode": {
    "name": "ipython",
    "version": 3
   },
   "file_extension": ".py",
   "mimetype": "text/x-python",
   "name": "python",
   "nbconvert_exporter": "python",
   "pygments_lexer": "ipython3",
   "version": "3.12.0"
  }
 },
 "nbformat": 4,
 "nbformat_minor": 2
}
